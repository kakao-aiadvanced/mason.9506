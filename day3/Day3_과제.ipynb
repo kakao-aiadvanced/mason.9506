{
  "cells": [
    {
      "cell_type": "code",
      "execution_count": 1,
      "metadata": {
        "id": "GsYlNbK-sW28"
      },
      "outputs": [],
      "source": [
        "%%capture --no-stderr\n",
        "%pip install langchain langchain-openai langchain-openai langchain_chroma langchain-text-splitters langchain_community"
      ]
    },
    {
      "cell_type": "code",
      "execution_count": 2,
      "metadata": {
        "id": "B6_ZYh7gGXXV"
      },
      "outputs": [],
      "source": [
        "%%capture --no-stderr\n",
        "%pip install langchainhub"
      ]
    },
    {
      "cell_type": "code",
      "execution_count": 3,
      "metadata": {
        "id": "DdqDWkYTEasU"
      },
      "outputs": [],
      "source": [
        "%%capture --no-stderr\n",
        "%pip install langchain-nomic tiktoken chromadb tavily-python gpt4all arxiv"
      ]
    },
    {
      "cell_type": "markdown",
      "metadata": {
        "id": "YDlA8SGOd8zZ"
      },
      "source": [
        "# 위 과정을 한번에 진행"
      ]
    },
    {
      "cell_type": "code",
      "execution_count": 4,
      "metadata": {
        "colab": {
          "base_uri": "https://localhost:8080/"
        },
        "id": "nIyghQJleuCp",
        "outputId": "ccb760b1-c80b-47cd-af45-0c5c3f4144dd"
      },
      "outputs": [
        {
          "name": "stderr",
          "output_type": "stream",
          "text": [
            "WARNING:langchain_community.utils.user_agent:USER_AGENT environment variable not set, consider setting it to identify your requests.\n"
          ]
        }
      ],
      "source": [
        "import bs4\n",
        "from langchain import hub\n",
        "from langchain_chroma import Chroma\n",
        "from langchain_community.document_loaders import WebBaseLoader\n",
        "from langchain_core.output_parsers import StrOutputParser, JsonOutputParser\n",
        "from langchain_core.runnables import RunnablePassthrough\n",
        "from langchain_openai import OpenAIEmbeddings\n",
        "from langchain_text_splitters import RecursiveCharacterTextSplitter\n",
        "from langchain_core.prompts import ChatPromptTemplate, HumanMessagePromptTemplate, PromptTemplate"
      ]
    },
    {
      "cell_type": "code",
      "execution_count": 5,
      "metadata": {
        "id": "Mwxmfb6ID_73"
      },
      "outputs": [],
      "source": [
        "# import getpass\n",
        "import os\n",
        "\n",
        "from google.colab import userdata\n",
        "api_key = userdata.get('api_key')\n",
        "tavily_api_key = userdata.get('tavily_api_key')\n",
        "\n",
        "# os.environ[\"OPENAI_API_KEY\"] = getpass.getpass()\n",
        "os.environ['OPENAI_API_KEY'] = api_key"
      ]
    },
    {
      "cell_type": "markdown",
      "metadata": {
        "id": "RY7sMTM3EJ_y"
      },
      "source": [
        "- tavily 써보기"
      ]
    },
    {
      "cell_type": "code",
      "execution_count": 6,
      "metadata": {
        "id": "hOkZC5zxErk0"
      },
      "outputs": [],
      "source": [
        "from tavily import TavilyClient"
      ]
    },
    {
      "cell_type": "code",
      "execution_count": 7,
      "metadata": {
        "id": "2YZdWXU6EyJy"
      },
      "outputs": [],
      "source": [
        "tavily = TavilyClient(api_key=tavily_api_key)"
      ]
    },
    {
      "cell_type": "code",
      "execution_count": 8,
      "metadata": {
        "id": "XXuBbcNuEIKq"
      },
      "outputs": [],
      "source": [
        "query = \"Where does Messi play right now?\"\n",
        "\n",
        "response = tavily.search(query=query, max_results=2)\n",
        "context = [{\"url\": obj[\"url\"], \"content\": obj[\"content\"]} for obj in response['results']]\n",
        "\n",
        "# You can easily get search result context based on any max tokens straight into your RAG.\n",
        "# The response is a string of the context within the max_token limit.\n",
        "response_context = tavily.get_search_context(query=query, search_depth=\"advanced\", max_tokens=500)\n",
        "\n",
        "# You can also get a simple answer to a question including relevant sources all with a simple function call:\n",
        "# You can use it for baseline\n",
        "response_qna = tavily.qna_search(query=query)"
      ]
    },
    {
      "cell_type": "code",
      "execution_count": 9,
      "metadata": {
        "colab": {
          "base_uri": "https://localhost:8080/"
        },
        "id": "Lsbg9lzsEIH_",
        "outputId": "34c25c73-1b46-406c-be16-1f0520f011a5"
      },
      "outputs": [
        {
          "data": {
            "text/plain": [
              "[{'url': 'https://www.usatoday.com/story/sports/mls/2023/06/07/lionel-messi-inter-miami-schedule-tickets/70299298007/',\n",
              "  'content': 'Lionel Messi joins Inter Miami: Full schedule, MLS tickets to see Messi play in US\\nLionel Messi\\xa0is taking his talents to South Beach.\\nMessi,\\xa0the 2022 World Cup champion, announced on Wednesday that he will join Major League Soccer\\'s Inter Miami CF, a pro soccer club owned by David Beckham, after exiting Ligue 1\\'s Paris Saint-Germain following two seasons.\\n Tickets to Inter Miami\\'s game on June 10 range from $40-$55, but the price tag to see Inter Miami play LigaMX\\'s Cruz Azul on July 21 soared to $495 in anticipation of what\\'s expected to be Messi\\'s first home game, TicketSmarter CEO Jeff Goodman told USA TODAY Sports.\\n Each team will play a minimum of two games in the group stage, similar to the World Cup format, with the possibility of more games if the team advances to the knockout rounds.\\n \"\\nAccording to Goodman, nearly 2,000 Inter Miami tickets sold on TicketSmarter the day of Messi\\'s announcement Wednesday, compared to under 50 tickets being sold on the platform over the weekend.\\n If the Barcelona thing didn\\'t work out, I wanted to leave Europe, get out of the spotlight and think more of my family.'},\n",
              " {'url': 'https://www.mlssoccer.com/news/messi/inter-miami-2024-schedule-which-mls-cities-will-lionel-messi-visit',\n",
              "  'content': \"LA Galaxy vs. Inter Miami CF\\nSunday, Feb. 25 | 8:30 pm ET\\nDignity Health Sports Park\\nD.C. United vs. Inter Miami CF\\nSaturday, March 16 | 2:00 pm ET\\nAudi Field\\nNew York Red Bulls vs. Inter Miami CF\\nSaturday, March 23 | 2:00 pm ET\\nRed Bull Arena\\nSporting Kansas City vs. Inter Miami CF\\nSaturday, April 13 | 8:30 pm ET\\nChildren's Mercy Park\\nNew England Revolution vs. Inter Miami CF\\nSaturday, April 27 | 7:30 pm ET\\nGillette Stadium\\nCF Montréal vs. Inter Miami CF\\nSaturday, May 11 | 7:30 pm ET\\nStade Saputo\\nOrlando City SC vs. Inter Miami CF\\nWednesday, May 15 | 7:30 pm ET\\nExploria Stadium\\nVancouver Whitecaps FC vs. Inter Miami FC\\nSaturday, May 25 | Time TBA\\nBC Place\\nPhiladelphia Union vs. Inter Miami CF\\nSaturday, June 15 | 7:30 pm ET\\nSubaru Park\\nNashville SC vs. Inter Miami CF\\nSaturday, June 29 | 8:30 pm ET\\nGEODIS Park\\nCharlotte FC vs. Inter Miami CF\\nWednesday, July 3 | 7:30 pm ET\\nBank of America Stadium\\nFC Cincinnati vs. Inter Miami CF\\nSaturday, July 6 | 7:30 pm ET\\nTQL Stadium\\nChicago Fire FC vs. Inter Miami CF\\nSaturday, Aug. 31 | 8:30 pm ET\\nSoldier Field\\nAtlanta United vs. Inter Miami CF\\nWedneday, Sept. 18 | 7:30 pm ET\\nMercedes-Benz Stadium\\nNew York City FC vs. Inter Miami CF\\nSaturday, Sept. 21 | Time TBA\\nYankee Stadium\\nColumbus Crew vs. Inter Miami CF\\nWednesday, Oct. 2 | 7:30 pm ET\\nLower.com Field\\nToronto FC vs. Inter Miami CF\\nSaturday, Oct. 5 | 7:30 pm ET\\nBMO Field\\nSchedule highlights\\nMessi and Miami will visit 14 Eastern Conference teams and three Western Conference teams in league action, beginning with a marquee showdown at the LA Galaxy on MLS is Back Weekend (Feb. 25).\\n Top 10 moments of 2023 with Inter Miami\\nInter Miami 2024 schedule: Which MLS cities will Lionel Messi visit?\\nLionel Messi: Inter Miami 2024 MLS preseason schedule, matches\\nMessi comes full circle: Inter Miami to face Newell's Old Boys in preseason friendly\\nMessi vs. Ronaldo: Inter Miami to face Al Nassr in Riyadh Season Cup\\nLionel Messi: Inter Miami superstar named TIME's Athlete of the Year\\nWATCH: Lionel Messi presents Ballon d’Or trophy to Inter Miami fans\\nWATCH: Lionel Messi's top Inter Miami moments in 2023\\nLa Tribuna: How Messi is transforming 'La Familia' in Miami\\nInter Miami: Analyzing Lionel Messi and Jordi Alba's absence\\nThe Messi Insider: Get the best Messi coverage straight to your inbox. WATCH: Messi Meets America on Apple TV+\\nRelated Stories\\nBecome a Messi Insider: Sign up to receive insider news, early access to Messi promotions and more.\\n Details: https://t.co/mxhbNTdfW4 pic.twitter.com/grFJCCCxmz\\nMessi in 2024\\nAfter joining Inter Miami last July, Messi captivated the North American soccer landscape and brought a global spotlight to MLS.\"}]"
            ]
          },
          "execution_count": 9,
          "metadata": {},
          "output_type": "execute_result"
        }
      ],
      "source": [
        "context"
      ]
    },
    {
      "cell_type": "code",
      "execution_count": 10,
      "metadata": {
        "colab": {
          "base_uri": "https://localhost:8080/",
          "height": 143
        },
        "id": "dVPTnR-aFhWq",
        "outputId": "6e3c3ac8-45ca-4a4b-cde8-2f32bcfd2ea1"
      },
      "outputs": [
        {
          "data": {
            "application/vnd.google.colaboratory.intrinsic+json": {
              "type": "string"
            },
            "text/plain": [
              "'\"[\\\\\"{\\\\\\\\\\\\\"url\\\\\\\\\\\\\": \\\\\\\\\\\\\"https://www.nbcsports.com/soccer/news/inter-miami-schedule-when-is-lionel-messis-next-mls-game\\\\\\\\\\\\\", \\\\\\\\\\\\\"content\\\\\\\\\\\\\": \\\\\\\\\\\\\"Messi has now played less than a season\\'s worth of games in an Inter Miami shirt when you add his appearances across all competitions. His numbers are, in true Messi form, stunning to the eye. ... *Wednesday, April 3: 1-2 loss vs Monterrey - Messi did not play Saturday, April 6: 2-2 draw vs Colorado Rapids - 1 goal for Messi, sets up 2nd goal\\\\\\\\\\\\\"}\\\\\", \\\\\"{\\\\\\\\\\\\\"url\\\\\\\\\\\\\": \\\\\\\\\\\\\"https://www.usatoday.com/story/sports/mls/2023/06/07/lionel-messi-inter-miami-schedule-tickets/70299298007/\\\\\\\\\\\\\", \\\\\\\\\\\\\"content\\\\\\\\\\\\\": \\\\\\\\\\\\\"Lionel Messi joins Inter Miami: Full schedule, MLS tickets to see Messi play in US\\\\\\\\\\\\\\\\nLionel Messi\\\\\\\\\\\\\\\\u00a0is taking his talents to South Beach.\\\\\\\\\\\\\\\\nMessi,\\\\\\\\\\\\\\\\u00a0the 2022 World Cup champion, announced on Wednesday that he will join Major League Soccer\\'s Inter Miami CF, a pro soccer club owned by David Beckham, after exiting Ligue 1\\'s Paris Saint-Germain following two seasons.\\\\\\\\\\\\\\\\n Tickets to Inter Miami\\'s game on June 10 range from $40-$55, but the price tag to see Inter Miami play LigaMX\\'s Cruz Azul on July 21 soared to $495 in anticipation of what\\'s expected to be Messi\\'s first home game, TicketSmarter CEO Jeff Goodman told USA TODAY Sports.\\\\\\\\\\\\\\\\n Each team will play a minimum of two games in the group stage, similar to the World Cup format, with the possibility of more games if the team advances to the knockout rounds.\\\\\\\\\\\\\\\\n \\\\\\\\\\\\\\\\\\\\\\\\\\\\\"\\\\\\\\\\\\\\\\nAccording to Goodman, nearly 2,000 Inter Miami tickets sold on TicketSmarter the day of Messi\\'s announcement Wednesday, compared to under 50 tickets being sold on the platform over the weekend.\\\\\\\\\\\\\\\\n If the Barcelona thing didn\\'t work out, I wanted to leave Europe, get out of the spotlight and think more of my family.\\\\\\\\\\\\\"}\\\\\"]\"'"
            ]
          },
          "execution_count": 10,
          "metadata": {},
          "output_type": "execute_result"
        }
      ],
      "source": [
        "response_context"
      ]
    },
    {
      "cell_type": "code",
      "execution_count": 11,
      "metadata": {
        "colab": {
          "base_uri": "https://localhost:8080/",
          "height": 36
        },
        "id": "MQ1ltM-hEHfP",
        "outputId": "c8816250-3247-40b0-f187-13c53bb0a4f1"
      },
      "outputs": [
        {
          "data": {
            "application/vnd.google.colaboratory.intrinsic+json": {
              "type": "string"
            },
            "text/plain": [
              "'Messi currently plays for Inter Miami CF in Major League Soccer (MLS).'"
            ]
          },
          "execution_count": 11,
          "metadata": {},
          "output_type": "execute_result"
        }
      ],
      "source": [
        "response_qna"
      ]
    },
    {
      "cell_type": "markdown",
      "metadata": {
        "id": "VhN-_pU1W24V"
      },
      "source": [
        "# 과제 시작"
      ]
    },
    {
      "cell_type": "code",
      "execution_count": 12,
      "metadata": {
        "id": "rOsZKbvBV7wC"
      },
      "outputs": [],
      "source": [
        "from langchain_openai import ChatOpenAI\n",
        "\n",
        "llm = ChatOpenAI(model=\"gpt-4o-mini\")"
      ]
    },
    {
      "cell_type": "code",
      "execution_count": 13,
      "metadata": {
        "id": "_sFjjpdjK8Qm"
      },
      "outputs": [],
      "source": [
        "# rag 생성\n",
        "urls = [\n",
        "    \"https://lilianweng.github.io/posts/2023-06-23-agent/\",\n",
        "    \"https://lilianweng.github.io/posts/2023-03-15-prompt-engineering/\",\n",
        "    \"https://lilianweng.github.io/posts/2023-10-25-adv-attack-llm/\",\n",
        "]\n",
        "\n",
        "def format_docs(docs):\n",
        "    return \"\\n\\n\".join(doc.page_content for doc in docs)\n",
        "\n",
        "loader = WebBaseLoader(\n",
        "    web_paths=urls,\n",
        "    bs_kwargs=dict(\n",
        "        parse_only=bs4.SoupStrainer(\n",
        "            class_=(\"post-content\", \"post-title\", \"post-header\")\n",
        "        )\n",
        "    ),\n",
        ")\n",
        "docs = loader.load()\n",
        "text_splitter = RecursiveCharacterTextSplitter(\n",
        "    chunk_size=1000,\n",
        "    chunk_overlap=200,\n",
        "    length_function=len,\n",
        "    is_separator_regex=False,\n",
        ")\n",
        "splited_docs = text_splitter.split_documents(docs)\n",
        "vectorstore = Chroma.from_documents(documents=splited_docs, embedding=OpenAIEmbeddings())\n",
        "retriever = vectorstore.as_retriever()\n",
        "\n",
        "# relevance chain 생성\n",
        "rel_check_prompt = ChatPromptTemplate(\n",
        "    input_variables=[\"context\", \"question\"],\n",
        "    messages=[\n",
        "        HumanMessagePromptTemplate(\n",
        "            prompt=PromptTemplate(\n",
        "                input_variables=[\"context\", \"question\"],\n",
        "                template=\"\"\"\n",
        "                You are an assistant for relevance check tasks.\n",
        "                Use the following pieces of retrieved context and question, check whether context and question is relevanced.\n",
        "                If they are relevanced return \"relevance\":\"yes\", if not return \"relevance\": \"no\". Return format should be json format.\n",
        "                - Question: {question}\n",
        "                - Context: {context}\n",
        "                \"\"\"\n",
        "                )\n",
        "            )\n",
        "        ]\n",
        ")\n",
        "rel_check_chain = rel_check_prompt | llm | JsonOutputParser()\n",
        "\n",
        "# answer chain 생성\n",
        "retrive_prompt = hub.pull(\"rlm/rag-prompt\")\n",
        "rag_chain = retrive_prompt | llm | StrOutputParser()\n",
        "\n",
        "# hallucination check chain 생성\n",
        "hallucination_check_prompt = ChatPromptTemplate(\n",
        "    input_variables=[\"context\", \"answer\"],\n",
        "    messages=[\n",
        "        HumanMessagePromptTemplate(\n",
        "            prompt=PromptTemplate(\n",
        "                input_variables=[\"context\", \"answer\"],\n",
        "                template=\"\"\"\n",
        "                You are an assistant for hallucination check tasks.\n",
        "                Use the following pieces of retrieved context and answer, check whether answer is from context well.\n",
        "                If answer is from context well, return \"hallucination\":\"no\", if not return \"hallucination\": \"yes\". Return format should be json format.\n",
        "                - Context: {context}\n",
        "                - Answer: {answer}\n",
        "                \"\"\"\n",
        "                )\n",
        "            )\n",
        "        ]\n",
        ")\n",
        "hal_check_chain = hallucination_check_prompt | llm | JsonOutputParser()\n",
        "\n",
        "\n",
        "# 검색 travily 객체 생성\n",
        "tavily = TavilyClient(api_key=tavily_api_key)\n",
        "\n",
        "# for DRY!\n",
        "def check_relevance(chain, context, question):\n",
        "  relevance_yn = chain.invoke({\"context\": context, \"question\": question})\n",
        "  return relevance_yn[\"relevance\"]\n",
        "\n",
        "def check_hallucination(chain, context, answer):\n",
        "  hallucination_yn = chain.invoke({\"context\": context, \"answer\": answer})\n",
        "  return hallucination_yn[\"hallucination\"]\n",
        "\n",
        "def check_hallucination_max_twice(rag_answer_chain, hallunication_chain, context, question, first_answer):\n",
        "  if check_hallucination(hallunication_chain, context, first_answer) == \"yes\":\n",
        "    second_answer = rag_answer_chain.invoke({\"context\": context, \"question\": question})\n",
        "    if check_hallucination(hallunication_chain, context, second_answer) == \"yes\":\n",
        "      print(\">> Sorry, I don't know. 🥲\")\n",
        "    else:\n",
        "      return second_answer\n",
        "  else:\n",
        "    return first_answer"
      ]
    },
    {
      "cell_type": "markdown",
      "metadata": {
        "id": "ReB8ama1TinN"
      },
      "source": [
        "# LLM 서비스 진행"
      ]
    },
    {
      "cell_type": "code",
      "execution_count": 14,
      "metadata": {
        "id": "R8Y4mV9UWQg5"
      },
      "outputs": [],
      "source": [
        "# 귀찮아서 그냥 전역변수 lets ggo\n",
        "def stupid_mason_llm(query, num_re_search = 3):\n",
        "  print(f\"?? question: {query}\")\n",
        "\n",
        "  # rag 에서 context 가져오기\n",
        "  context_from_rag = format_docs(retriever.invoke(query))\n",
        "\n",
        "  # relevance 확인하기\n",
        "  if check_relevance(rel_check_chain, context_from_rag, query) == \"no\":\n",
        "    if num_re_search > 0:\n",
        "      # rag 에 없으면 travily 로 검색\n",
        "      print(f\">> searching in web...\")\n",
        "      tavily_response = tavily.search(query=query, max_results=num_re_search)\n",
        "      url_and_context_from_tavily = [{\"url\": obj[\"url\"], \"content\": obj[\"content\"]} for obj in tavily_response['results']]\n",
        "      for i in range(num_re_search):\n",
        "        if i == num_re_search:\n",
        "            break\n",
        "        context_from_tavily = url_and_context_from_tavily[i]\n",
        "        if check_relevance(rel_check_chain, context_from_tavily, query) == \"no\":\n",
        "          continue\n",
        "        else:\n",
        "          break\n",
        "      if i == num_re_search:\n",
        "        print(\">> Sorry, I don't know. 🥲\")\n",
        "      else:\n",
        "        # search 기반 hallucination 확인하고 답변\n",
        "        first_answer = rag_chain.invoke({\"context\": context_from_tavily['content'], \"question\": query})\n",
        "        result = check_hallucination_max_twice(rag_chain, hal_check_chain, context_from_tavily['content'], query, first_answer)\n",
        "        if result != None:\n",
        "          print(f\">> answer: {result}\")\n",
        "          print(f\">> reference: {context_from_tavily['url']}\")\n",
        "    else:\n",
        "      print(\">> Sorry, I don't know. Turn on web search! 🥲\")\n",
        "  else:\n",
        "    # rag 기반 hallucination 확인하고 답변\n",
        "    first_answer = rag_chain.invoke({\"context\": context_from_rag, \"question\": query})\n",
        "    result = check_hallucination_max_twice(rag_chain, hal_check_chain, context_from_rag, query, first_answer)\n",
        "    if result != None:\n",
        "      print(f\">> answer: {result}\")"
      ]
    },
    {
      "cell_type": "code",
      "execution_count": 15,
      "metadata": {
        "colab": {
          "base_uri": "https://localhost:8080/"
        },
        "id": "16dI9fE8d44_",
        "outputId": "b1b65daa-ae94-422b-ac29-e11a7261359d"
      },
      "outputs": [
        {
          "name": "stdout",
          "output_type": "stream",
          "text": [
            "?? question: What is agent memory?\n",
            ">> answer: Agent memory refers to the processes that allow an agent to acquire, store, retain, and retrieve information over time. It encompasses both short-term memory, which involves in-context learning, and long-term memory, which utilizes an external database to retain extensive experiences and observations. This memory system helps inform the agent's behavior based on relevance, recency, and importance of past events.\n"
          ]
        }
      ],
      "source": [
        "stupid_mason_llm(\"What is agent memory?\")"
      ]
    },
    {
      "cell_type": "code",
      "execution_count": 16,
      "metadata": {
        "colab": {
          "base_uri": "https://localhost:8080/"
        },
        "id": "qH-zS-Wud6B_",
        "outputId": "9fe3db06-6e11-4761-a922-36710ba2763e"
      },
      "outputs": [
        {
          "name": "stdout",
          "output_type": "stream",
          "text": [
            "?? question: Where does Messi play right now?\n",
            ">> Sorry, I don't know. Turn on web search! 🥲\n"
          ]
        }
      ],
      "source": [
        "stupid_mason_llm(\"Where does Messi play right now?\", 0)"
      ]
    },
    {
      "cell_type": "code",
      "execution_count": 17,
      "metadata": {
        "colab": {
          "base_uri": "https://localhost:8080/"
        },
        "id": "AJdLvBnlK_xE",
        "outputId": "812346f0-ddb7-48bb-dbc5-885abc6be263"
      },
      "outputs": [
        {
          "name": "stdout",
          "output_type": "stream",
          "text": [
            "?? question: Where does Messi play right now?\n",
            ">> searching in web...\n",
            ">> answer: Lionel Messi currently plays for Inter Miami CF in Major League Soccer (MLS). He joined the team after leaving Paris Saint-Germain.\n",
            ">> reference: https://www.usatoday.com/story/sports/mls/2023/06/07/lionel-messi-inter-miami-schedule-tickets/70299298007/\n"
          ]
        }
      ],
      "source": [
        "stupid_mason_llm(\"Where does Messi play right now?\")"
      ]
    },
    {
      "cell_type": "code",
      "execution_count": 18,
      "metadata": {
        "colab": {
          "base_uri": "https://localhost:8080/"
        },
        "id": "I207t2g6Xudr",
        "outputId": "52d1e894-f3ad-4bf0-840d-3a05606747d5"
      },
      "outputs": [
        {
          "name": "stdout",
          "output_type": "stream",
          "text": [
            "?? question: What is the biggest city in Korea?\n",
            ">> searching in web...\n",
            ">> answer: The biggest city in Korea is Seoul, which is also the capital of South Korea. It has a population of approximately 10 million people.\n",
            ">> reference: https://www.discoverytheworld.com/discover-the-20-largest-cities-in-south-korea/\n"
          ]
        }
      ],
      "source": [
        "stupid_mason_llm(\"What is the biggest city in Korea?\")"
      ]
    }
  ],
  "metadata": {
    "accelerator": "GPU",
    "colab": {
      "gpuType": "T4",
      "provenance": []
    },
    "kernelspec": {
      "display_name": "Python 3",
      "name": "python3"
    },
    "language_info": {
      "name": "python"
    }
  },
  "nbformat": 4,
  "nbformat_minor": 0
}
